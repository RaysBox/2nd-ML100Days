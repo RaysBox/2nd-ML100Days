{
 "cells": [
  {
   "cell_type": "code",
   "execution_count": 15,
   "metadata": {},
   "outputs": [],
   "source": [
    "# 請上 Kaggle, 在 Competitions 或 Dataset 中找一組競賽或資料並寫下：\n",
    "# 1. 你選的這組資料為何重要\n",
    "# 2. 資料從何而來 (tips: 譬如提供者是誰、以什麼方式蒐集)\n",
    "# 3. 蒐集而來的資料型態為何\n",
    "# 4. 這組資料想解決的問題如何評估"
   ]
  },
  {
   "cell_type": "code",
   "execution_count": 3,
   "metadata": {},
   "outputs": [],
   "source": [
    "# 作業2：\n",
    "# 想像你經營一個自由載客車隊，你希望能透過數據分析以提升業績，請你思考並描述你如何規劃整體的分析/解決方案：\n",
    "# 1. 核心問題為何 (tips：如何定義 「提升業績 & 你的假設」)\n",
    "# 2. 資料從何而來 (tips：哪些資料可能會對你想問的問題產生影響 & 資料如何蒐集)\n",
    "# 3. 蒐集而來的資料型態為何\n",
    "# 4. 你要回答的問題，其如何評估 (tips：你的假設如何驗證)"
   ]
  },
  {
   "cell_type": "code",
   "execution_count": 17,
   "metadata": {},
   "outputs": [],
   "source": [
    "# 作業3：\n",
    "# 請點選下方檢視範例依照 Day_001_example_of_metrics.ipynb 完成 Mean Squared Error 的函式\n",
    "# 資料夾結構建立規則提醒：2nd-ML100Days > data資料夾 & homework資料夾 (ipynb檔) \n",
    "# (請注意data的存放位置，建議放在*.ipynb 同一個目錄下，這樣才能在不修改code的情況下正常執行)"
   ]
  },
  {
   "cell_type": "code",
   "execution_count": 5,
   "metadata": {},
   "outputs": [],
   "source": [
    "import numpy as np\n",
    "import matplotlib.pyplot as plt"
   ]
  },
  {
   "cell_type": "code",
   "execution_count": 47,
   "metadata": {},
   "outputs": [
    {
     "data": {
      "image/png": "[encoded data removed]",
      "text/plain": [
       "<Figure size 432x288 with 1 Axes>"
      ]
     },
     "metadata": {
      "needs_background": "light"
     },
     "output_type": "display_data"
    }
   ],
   "source": [
    "w = 3\n",
    "b = 0.5\n",
    "\n",
    "x_lin = np.linspace(0, 100, 101)\n",
    "y = (x_lin + np.random.randn(101) * 5) * w + b\n",
    "\n",
    "plt.plot(x_lin, y, 'b.', label = 'data points')\n",
    "plt.title(\"Assume we have data points\")\n",
    "plt.legend(loc = 2)\n",
    "plt.show()"
   ]
  },
  {
   "cell_type": "code",
   "execution_count": 7,
   "metadata": {},
   "outputs": [
    {
     "data": {
      "image/png": "[encoded data removed]",
      "text/plain": [
       "<Figure size 432x288 with 1 Axes>"
      ]
     },
     "metadata": {
      "needs_background": "light"
     },
     "output_type": "display_data"
    }
   ],
   "source": [
    "y_hat = x_lin * w + b\n",
    "plt.plot(x_lin, y, 'b.', label = 'data')\n",
    "plt.plot(x_lin, y_hat, 'r-', label = 'prediction')\n",
    "plt.title(\"Assume we have data points (And the prediction)\")\n",
    "plt.legend(loc = 2)\n",
    "plt.show()"
   ]
  },
  {
   "cell_type": "code",
   "execution_count": 13,
   "metadata": {},
   "outputs": [
    {
     "name": "stdout",
     "output_type": "stream",
     "text": [
      "The Mean absolute error is 11.508\n"
     ]
    }
   ],
   "source": [
    "def mean_absolute_error(y, yp):\n",
    "    \"\"\"\n",
    "    計算 MAE\n",
    "    Args:\n",
    "        - y: 實際值\n",
    "        - yp: 預測值\n",
    "    Return:\n",
    "        - mae: MAE\n",
    "    \"\"\"\n",
    "    mae = MAE = sum(abs(y - yp)) / len(y)\n",
    "    return mae\n",
    "\n",
    "MAE = mean_absolute_error(y, y_hat)\n",
    "print(\"The Mean absolute error is %.3f\" % (MAE))"
   ]
  },
  {
   "cell_type": "code",
   "execution_count": 16,
   "metadata": {},
   "outputs": [],
   "source": [
    "# 請寫一個函式用來計算 Mean Square Error\n",
    "# $ MSE = \\frac{1}{n}\\sum_{i=1}^{n}{(Y_i - \\hat{Y}_i)^2} $"
   ]
  },
  {
   "cell_type": "code",
   "execution_count": 77,
   "metadata": {},
   "outputs": [
    {
     "name": "stdout",
     "output_type": "stream",
     "text": [
      "The Mean square error is 168.514\n"
     ]
    }
   ],
   "source": [
    "def mean_square_error(y, yh):\n",
    "    \"\"\"\n",
    "    計算 MSE\n",
    "    公式為 sum((y[i]-yh[i])^2)/len(y)\n",
    "    Args:\n",
    "        - y: 被減數\n",
    "        - yh: 減數\n",
    "    Return:\n",
    "        - mae: MAE\n",
    "    \n",
    "    # TIP: 打印出陣列所有值\n",
    "        print(\"y=\", y[0 : len(y)])\n",
    "    # TIP: 次方的表示法\n",
    "        y**n 表示 y的n次方\n",
    "    # TIP: 取陣列長度\n",
    "        假設陣列為y, len(y)即表示y陣列的長度\n",
    "    # TIP: 計算陣列綜合\n",
    "        sum()函式可直接對陣列進行使用\n",
    "        假設 y = [0, 1, 2]\n",
    "        sum(y) >> 3\n",
    "    # TIP: 取平均值\n",
    "        numpy as np\n",
    "        對陣列使用np.mean(), 即可取得平均值\n",
    "        假設 x = [5, 10, 15]\n",
    "        np.mean(x) >> 10\n",
    "    # TIP:\n",
    "        字串相加: \"123\" + \"456\" > \"123456\"\n",
    "        數值轉字串相加: \"123\" + str(12.3) = \"12312.3\"\n",
    "    # TIP: 浮點數取餘數後n碼 > \"%.nf\" %(浮點數)\n",
    "        a = 1.2345\n",
    "        \"%.2f\" %(a) >> 1.23\n",
    "    \"\"\"\n",
    "    \n",
    "    # 寫法一\n",
    "#     total = 0\n",
    "#     for i in range( len(y) ):\n",
    "#         total += ( y[i] - yh[i] )**2\n",
    "#     return total/len(y)\n",
    "    \n",
    "    # 寫法二\n",
    "#     return sum( ( y - yh )**2 ) /len(y)\n",
    "\n",
    "    # 寫法三\n",
    "#     return np.mean( ( y - yh )**2 )\n",
    "\n",
    "    # 寫法四\n",
    "    return ( ( y - yh )**2 ).mean()\n",
    "\n",
    "MSE = mean_square_error(y, y_hat)\n",
    "print(\"The Mean square error is %.3f\" %(MSE))"
   ]
  },
  {
   "cell_type": "code",
   "execution_count": null,
   "metadata": {},
   "outputs": [],
   "source": []
  },
  {
   "cell_type": "code",
   "execution_count": null,
   "metadata": {},
   "outputs": [],
   "source": []
  },
  {
   "cell_type": "code",
   "execution_count": null,
   "metadata": {},
   "outputs": [],
   "source": []
  }
 ],
 "metadata": {
  "kernelspec": {
   "display_name": "Python 3",
   "language": "python",
   "name": "python3"
  },
  "language_info": {
   "codemirror_mode": {
    "name": "ipython",
    "version": 3
   },
   "file_extension": ".py",
   "mimetype": "text/x-python",
   "name": "python",
   "nbconvert_exporter": "python",
   "pygments_lexer": "ipython3",
   "version": "3.7.3"
  }
 },
 "nbformat": 4,
 "nbformat_minor": 2
}
