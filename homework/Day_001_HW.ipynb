{
 "cells": [
  {
   "cell_type": "markdown",
   "metadata": {},
   "source": [
    "# 作業1：\n",
    "請上 Kaggle, 在 Competitions 或 Dataset 中找一組競賽或資料並寫下：<br>\n",
    "[Google Play Store Apps](https://www.kaggle.com/lava18/google-play-store-apps)\n",
    "\n",
    "### 1. 你選的這組資料為何重要\n",
    "擁有大量的排名資料，其中包含App類別、評價等級、下載量等等詳細資料。<br>\n",
    "\n",
    "### 2. 資料從何而來 (tips: 譬如提供者是誰、以什麼方式蒐集)\n",
    "Web scraped data of 10k Play Store apps.<br>\n",
    "\n",
    "### 3. 蒐集而來的資料型態為何\n",
    "* text\n",
    "* int\n",
    "* float\n",
    "* date\n",
    "\n",
    "### 4. 這組資料想解決的問題如何評估\n",
    "藉由分類後，可判斷當前熱門的App屬何種類別、哪個版本的手機愛用、安裝量以及何種App評價如何？<br>\n",
    "進一步便可進行滲透式的分析。<br>"
   ]
  },
  {
   "cell_type": "markdown",
   "metadata": {},
   "source": [
    "# 作業2：\n",
    "想像你經營一個自由載客車隊，你希望能透過數據分析以提升業績，請你思考並描述你如何規劃整體的分析/解決方案：<br>\n",
    "\n",
    "### 1. 核心問題為何 (tips：如何定義 「提升業績 & 你的假設」)\n",
    "載客量下滑，藉由分析自家員工來擬定策略<br>\n",
    "\n",
    "### 2. 資料從何而來 (tips：哪些資料可能會對你想問的問題產生影響 & 資料如何蒐集)\n",
    "用戶回饋<br>\n",
    "\n",
    "### 3. 蒐集而來的資料型態為何\n",
    "* text: 用戶意見\n",
    "* int: 評價等級(1-5)\n",
    "* datetime: 回饋日期與時間\n",
    "\n",
    "### 4. 你要回答的問題，其如何評估 (tips：你的假設如何驗證)\n",
    "* 藉由評價等級來區分用戶體驗\n",
    "* 由評價等級之意見來劃分用戶體驗不佳的大致原因\n",
    "* 由日期時段來推敲體驗不佳的時段大致於何時發生\n",
    "* 依序藉由SWOT分析等分析法來擬定接下來的策略"
   ]
  },
  {
   "cell_type": "markdown",
   "metadata": {},
   "source": [
    "# 作業3：\n",
    "請點選下方檢視範例依照 Day_001_example_of_metrics.ipynb 完成 Mean Squared Error 的函式<br>"
   ]
  },
  {
   "cell_type": "code",
   "execution_count": 5,
   "metadata": {},
   "outputs": [],
   "source": [
    "import numpy as np\n",
    "import matplotlib.pyplot as plt"
   ]
  },
  {
   "cell_type": "code",
   "execution_count": 99,
   "metadata": {},
   "outputs": [
    {
     "data": {
      "image/png": "[encoded data removed]",
      "text/plain": [
       "<Figure size 432x288 with 1 Axes>"
      ]
     },
     "metadata": {
      "needs_background": "light"
     },
     "output_type": "display_data"
    }
   ],
   "source": [
    "w = 3\n",
    "b = 0.5\n",
    "\n",
    "# 建置等差數列, 0到100間生出101個數出來, 包含0跟100\n",
    "x_lin = np.linspace(0, 100, 101)\n",
    "# np.random.randn(101) 回傳101組樣本, 具有標準正態分佈\n",
    "y = (x_lin + np.random.randn(101) * 5) * w + b\n",
    "\n",
    "# 座標x, 座標y, 呈現樣式, 樣式註解\n",
    "plt.plot(x_lin, y, 'b.', label = 'data points')\n",
    "plt.title(\"Assume we have data points\")\n",
    "# 註解呈現位置於左上角\n",
    "plt.legend(loc = 2)\n",
    "plt.show()"
   ]
  },
  {
   "cell_type": "code",
   "execution_count": 7,
   "metadata": {},
   "outputs": [
    {
     "data": {
      "image/png": "[encoded data removed]",
      "text/plain": [
       "<Figure size 432x288 with 1 Axes>"
      ]
     },
     "metadata": {
      "needs_background": "light"
     },
     "output_type": "display_data"
    }
   ],
   "source": [
    "y_hat = x_lin * w + b\n",
    "plt.plot(x_lin, y, 'b.', label = 'data')\n",
    "plt.plot(x_lin, y_hat, 'r-', label = 'prediction')\n",
    "plt.title(\"Assume we have data points (And the prediction)\")\n",
    "plt.legend(loc = 2)\n",
    "plt.show()"
   ]
  },
  {
   "cell_type": "code",
   "execution_count": 100,
   "metadata": {},
   "outputs": [],
   "source": [
    "def mean_absolute_error(y, yp):\n",
    "    \"\"\"\n",
    "    計算 MAE\n",
    "    Args:\n",
    "        - y: 實際值\n",
    "        - yp: 預測值\n",
    "    Return:\n",
    "        - mae: MAE\n",
    "    \"\"\"\n",
    "    mae = MAE = sum(abs(y - yp)) / len(y)\n",
    "    return mae"
   ]
  },
  {
   "cell_type": "markdown",
   "metadata": {},
   "source": [
    "## TIP 1:\n",
    "  打印出陣列所有值\n",
    "  print(\"y=\", y[0 : len(y)])\n",
    "## TIP 2:\n",
    "  次方的表示法\n",
    "  y**n 表示 y的n次方\n",
    "## TIP 3:\n",
    "  取陣列長度\n",
    "  假設陣列為y, len(y)即表示y陣列的長度\n",
    "## TIP 4:\n",
    "  計算陣列綜合\n",
    "  sum()函式可直接對陣列進行使用\n",
    "  假設 y = [0, 1, 2]\n",
    "  sum(y) >> 3\n",
    "## TIP 5:\n",
    "  取平均值\n",
    "  numpy as np\n",
    "  對陣列使用np.mean(), 即可取得平均值\n",
    "  假設 x = [5, 10, 15]\n",
    "  np.mean(x) >> 10\n",
    "## TIP 6:\n",
    "  字串相加: \"123\" + \"456\" > \"123456\"\n",
    "  數值轉字串相加: \"123\" + str(12.3) = \"12312.3\"\n",
    "## TIP 7:\n",
    "  浮點數取餘數後n碼 > \"%.nf\" %(浮點數)\n",
    "  a = 1.2345\n",
    "  \"%.2f\" %(a) >> 1.23"
   ]
  },
  {
   "cell_type": "markdown",
   "metadata": {},
   "source": [
    "# 請寫一個函式用來計算 Mean Square Error\n",
    "$ MSE = \\frac{1}{n}\\sum_{i=1}^{n}{(Y_i - \\hat{Y}_i)^2} $"
   ]
  },
  {
   "cell_type": "code",
   "execution_count": 79,
   "metadata": {},
   "outputs": [],
   "source": [
    "def mean_square_error(y, yh):\n",
    "    \"\"\"\n",
    "    計算 MSE\n",
    "    公式為 sum((y[i]-yh[i])^2)/len(y)\n",
    "    Args:\n",
    "        - y: 被減數\n",
    "        - yh: 減數\n",
    "    Return:\n",
    "        - mse: MSE    \n",
    "    \"\"\"\n",
    "    \n",
    "    # 寫法一\n",
    "#     total = 0\n",
    "#     for i in range(len(y)):\n",
    "#         total += (y[i] - yh[i])**2\n",
    "#     return total/len(y)\n",
    "    \n",
    "    # 寫法二\n",
    "#     return sum(( y - yh )**2) / len(y)\n",
    "\n",
    "    # 寫法三\n",
    "#     return np.mean(( y - yh )**2)\n",
    "\n",
    "    # 寫法四\n",
    "    return (( y - yh )**2).mean()"
   ]
  },
  {
   "cell_type": "code",
   "execution_count": 78,
   "metadata": {},
   "outputs": [
    {
     "name": "stdout",
     "output_type": "stream",
     "text": [
      "The Mean absolute error is 10.100\n",
      "The Mean square error is 168.514\n"
     ]
    }
   ],
   "source": [
    "MAE = mean_absolute_error(y, y_hat)\n",
    "MSE = mean_square_error(y, y_hat)\n",
    "\n",
    "print(\"The Mean absolute error is %.3f\" % (MAE))\n",
    "print(\"The Mean square error is %.3f\" %(MSE))"
   ]
  }
 ],
 "metadata": {
  "kernelspec": {
   "display_name": "Python 3",
   "language": "python",
   "name": "python3"
  },
  "language_info": {
   "codemirror_mode": {
    "name": "ipython",
    "version": 3
   },
   "file_extension": ".py",
   "mimetype": "text/x-python",
   "name": "python",
   "nbconvert_exporter": "python",
   "pygments_lexer": "ipython3",
   "version": "3.7.3"
  }
 },
 "nbformat": 4,
 "nbformat_minor": 2
}
